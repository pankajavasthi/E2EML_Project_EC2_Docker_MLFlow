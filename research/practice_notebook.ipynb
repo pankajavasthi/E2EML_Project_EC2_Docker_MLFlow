{
 "cells": [
  {
   "cell_type": "markdown",
   "id": "25799a55",
   "metadata": {},
   "source": [
    "# Stage 1 -\n",
    "### Steps for Data Ingestion "
   ]
  },
  {
   "cell_type": "code",
   "execution_count": 189,
   "id": "c80352ca",
   "metadata": {},
   "outputs": [],
   "source": [
    "from dataclasses import dataclass\n",
    "from pathlib import Path\n",
    "\n",
    "\n",
    "@dataclass(frozen=True)\n",
    "class DataIngestionConfig:\n",
    "    root_dir: Path\n",
    "    source_URL: str\n",
    "    local_data_file: Path\n",
    "    unzip_dir: Path"
   ]
  },
  {
   "cell_type": "code",
   "execution_count": 148,
   "id": "289b5086",
   "metadata": {},
   "outputs": [],
   "source": [
    "from mlProject.constants import *\n",
    "from mlProject.utils.common import read_yaml, create_directories"
   ]
  },
  {
   "cell_type": "code",
   "execution_count": 149,
   "id": "cf9c2432",
   "metadata": {},
   "outputs": [],
   "source": [
    "class ConfigurationManager:\n",
    "    def __init__(self,config_filepath = CONFIG_FILE_PATH,params_filepath = PARAMS_FILE_PATH,schema_filepath = SCHEMA_FILE_PATH):\n",
    "        self.config = read_yaml(config_filepath)\n",
    "        self.params = read_yaml(params_filepath)\n",
    "        self.schema = read_yaml(schema_filepath)\n",
    "        create_directories([self.config.artifacts_root])\n",
    "        \n",
    "    def get_data_ingestion_config(self) -> DataIngestionConfig:\n",
    "        config = self.config.data_ingestion\n",
    "\n",
    "        create_directories([config.root_dir])\n",
    "\n",
    "        data_ingestion_config = DataIngestionConfig(\n",
    "            root_dir=config.root_dir,\n",
    "            source_URL=config.source_URL,\n",
    "            local_data_file=config.local_data_file,\n",
    "            unzip_dir=config.unzip_dir \n",
    "        )\n",
    "        return data_ingestion_config"
   ]
  },
  {
   "cell_type": "code",
   "execution_count": 150,
   "id": "50a8ef3a",
   "metadata": {},
   "outputs": [
    {
     "name": "stdout",
     "output_type": "stream",
     "text": [
      "[2024-03-08 16:25:40,824: INFO: common: yaml file: config\\config.yaml loaded successfully]\n",
      "[2024-03-08 16:25:40,827: INFO: common: yaml file: params.yaml loaded successfully]\n",
      "[2024-03-08 16:25:40,828: INFO: common: yaml file: schema.yaml loaded successfully]\n",
      "[2024-03-08 16:25:40,830: INFO: common: created directory at: artifacts]\n"
     ]
    }
   ],
   "source": [
    "config = ConfigurationManager()"
   ]
  },
  {
   "cell_type": "code",
   "execution_count": 151,
   "id": "b864c2cd",
   "metadata": {},
   "outputs": [
    {
     "data": {
      "text/plain": [
       "ConfigBox({'artifacts_root': 'artifacts', 'data_ingestion': {'root_dir': 'artifacts/data_ingestion', 'source_URL': 'https://github.com/pankajavasthi/E2EML_Project_EC2_Docker_MLFlow/research/winequality-data.zip', 'local_data_file': 'artifacts/data_ingestion/data.zip', 'unzip_dir': 'artifacts/data_ingestion'}})"
      ]
     },
     "execution_count": 151,
     "metadata": {},
     "output_type": "execute_result"
    }
   ],
   "source": [
    "config.config"
   ]
  },
  {
   "cell_type": "code",
   "execution_count": 152,
   "id": "afb6c720",
   "metadata": {},
   "outputs": [
    {
     "data": {
      "text/plain": [
       "ConfigBox({'root_dir': 'artifacts/data_ingestion', 'source_URL': 'https://github.com/pankajavasthi/E2EML_Project_EC2_Docker_MLFlow/research/winequality-data.zip', 'local_data_file': 'artifacts/data_ingestion/data.zip', 'unzip_dir': 'artifacts/data_ingestion'})"
      ]
     },
     "execution_count": 152,
     "metadata": {},
     "output_type": "execute_result"
    }
   ],
   "source": [
    "config.config.data_ingestion"
   ]
  },
  {
   "cell_type": "code",
   "execution_count": 153,
   "id": "41ef1b3a",
   "metadata": {},
   "outputs": [
    {
     "name": "stdout",
     "output_type": "stream",
     "text": [
      "[2024-03-08 16:25:43,421: INFO: common: created directory at: artifacts/data_ingestion]\n"
     ]
    },
    {
     "data": {
      "text/plain": [
       "DataIngestionConfig(root_dir='artifacts/data_ingestion', source_URL='https://github.com/pankajavasthi/E2EML_Project_EC2_Docker_MLFlow/research/winequality-data.zip', local_data_file='artifacts/data_ingestion/data.zip', unzip_dir='artifacts/data_ingestion')"
      ]
     },
     "execution_count": 153,
     "metadata": {},
     "output_type": "execute_result"
    }
   ],
   "source": [
    "config.get_data_ingestion_config()"
   ]
  },
  {
   "cell_type": "code",
   "execution_count": 154,
   "id": "0c21cd07",
   "metadata": {},
   "outputs": [
    {
     "data": {
      "text/plain": [
       "ConfigBox({'artifacts_root': 'artifacts', 'data_ingestion': {'root_dir': 'artifacts/data_ingestion', 'source_URL': 'https://github.com/pankajavasthi/E2EML_Project_EC2_Docker_MLFlow/research/winequality-data.zip', 'local_data_file': 'artifacts/data_ingestion/data.zip', 'unzip_dir': 'artifacts/data_ingestion'}})"
      ]
     },
     "execution_count": 154,
     "metadata": {},
     "output_type": "execute_result"
    }
   ],
   "source": [
    "config.config"
   ]
  },
  {
   "cell_type": "code",
   "execution_count": 155,
   "id": "e49b5021",
   "metadata": {},
   "outputs": [],
   "source": [
    "class DataIngestion:\n",
    "    def __init__(self, config: DataIngestionConfig):\n",
    "        self.config = config"
   ]
  },
  {
   "cell_type": "code",
   "execution_count": 156,
   "id": "2c3d0799",
   "metadata": {},
   "outputs": [
    {
     "name": "stdout",
     "output_type": "stream",
     "text": [
      "[2024-03-08 16:25:46,629: INFO: common: created directory at: artifacts/data_ingestion]\n"
     ]
    }
   ],
   "source": [
    "data_ingestion_config = config.get_data_ingestion_config()"
   ]
  },
  {
   "cell_type": "code",
   "execution_count": 157,
   "id": "f15e4beb",
   "metadata": {},
   "outputs": [],
   "source": [
    "data_ingestion = DataIngestion(config=data_ingestion_config)"
   ]
  },
  {
   "cell_type": "code",
   "execution_count": 158,
   "id": "57c4bc18",
   "metadata": {},
   "outputs": [
    {
     "data": {
      "text/plain": [
       "'artifacts/data_ingestion/data.zip'"
      ]
     },
     "execution_count": 158,
     "metadata": {},
     "output_type": "execute_result"
    }
   ],
   "source": [
    "data_ingestion.config.local_data_file"
   ]
  },
  {
   "cell_type": "code",
   "execution_count": 159,
   "id": "42d4a21c",
   "metadata": {},
   "outputs": [
    {
     "data": {
      "text/plain": [
       "'https://github.com/pankajavasthi/E2EML_Project_EC2_Docker_MLFlow/research/winequality-data.zip'"
      ]
     },
     "execution_count": 159,
     "metadata": {},
     "output_type": "execute_result"
    }
   ],
   "source": [
    "data_ingestion.config.source_URL"
   ]
  },
  {
   "cell_type": "code",
   "execution_count": 176,
   "id": "23e95f28",
   "metadata": {},
   "outputs": [
    {
     "data": {
      "text/plain": [
       "'artifacts/data_ingestion'"
      ]
     },
     "execution_count": 176,
     "metadata": {},
     "output_type": "execute_result"
    }
   ],
   "source": [
    "data_ingestion.config.unzip_dir"
   ]
  },
  {
   "cell_type": "markdown",
   "id": "9125395a",
   "metadata": {},
   "source": [
    "import os\n",
    "import urllib.request as request\n",
    "import zipfile"
   ]
  },
  {
   "cell_type": "code",
   "execution_count": 183,
   "id": "3ec06da4",
   "metadata": {},
   "outputs": [],
   "source": [
    "#filename, headers = request.urlretrieve(data_ingestion.config.source_URL,data_ingestion.config.local_data_file)"
   ]
  },
  {
   "cell_type": "code",
   "execution_count": 184,
   "id": "ac9e96a6",
   "metadata": {},
   "outputs": [],
   "source": [
    "unzip_path = data_ingestion.config.unzip_dir"
   ]
  },
  {
   "cell_type": "code",
   "execution_count": 185,
   "id": "596d4724",
   "metadata": {},
   "outputs": [],
   "source": [
    "os.makedirs(unzip_path, exist_ok=True)"
   ]
  },
  {
   "cell_type": "code",
   "execution_count": 186,
   "id": "6825dfac",
   "metadata": {},
   "outputs": [],
   "source": [
    "with zipfile.ZipFile(data_ingestion.config.local_data_file, 'r') as zip_ref:\n",
    "            zip_ref.extractall(unzip_path)"
   ]
  },
  {
   "cell_type": "markdown",
   "id": "875ad568",
   "metadata": {},
   "source": [
    "# Data Ingestion step completed"
   ]
  },
  {
   "cell_type": "code",
   "execution_count": 191,
   "id": "e3d55273",
   "metadata": {},
   "outputs": [
    {
     "data": {
      "text/plain": [
       "'d:\\\\Pankaj Avasthi\\\\Pankaj Study Material\\\\Projects\\\\ML\\\\E2EML_Project_EC2_Docker_MLFlow'"
      ]
     },
     "execution_count": 191,
     "metadata": {},
     "output_type": "execute_result"
    }
   ],
   "source": [
    "pwd()"
   ]
  },
  {
   "cell_type": "code",
   "execution_count": null,
   "id": "9479180f",
   "metadata": {},
   "outputs": [],
   "source": []
  }
 ],
 "metadata": {
  "kernelspec": {
   "display_name": "Python 3 (ipykernel)",
   "language": "python",
   "name": "python3"
  },
  "language_info": {
   "codemirror_mode": {
    "name": "ipython",
    "version": 3
   },
   "file_extension": ".py",
   "mimetype": "text/x-python",
   "name": "python",
   "nbconvert_exporter": "python",
   "pygments_lexer": "ipython3",
   "version": "3.11.5"
  }
 },
 "nbformat": 4,
 "nbformat_minor": 5
}
